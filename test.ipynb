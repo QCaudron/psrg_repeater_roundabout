{
 "cells": [
  {
   "cell_type": "code",
   "execution_count": 1,
   "metadata": {},
   "outputs": [
    {
     "name": "stdout",
     "output_type": "stream",
     "text": [
      "Collecting pyproj\n",
      "  Downloading pyproj-3.7.0-cp310-cp310-win_amd64.whl (6.2 MB)\n",
      "                                              0.0/6.2 MB ? eta -:--:--\n",
      "                                              0.1/6.2 MB 1.3 MB/s eta 0:00:05\n",
      "     -                                        0.2/6.2 MB 1.7 MB/s eta 0:00:04\n",
      "     -                                        0.3/6.2 MB 2.0 MB/s eta 0:00:04\n",
      "     --                                       0.4/6.2 MB 2.1 MB/s eta 0:00:03\n",
      "     ---                                      0.5/6.2 MB 2.2 MB/s eta 0:00:03\n",
      "     ----                                     0.6/6.2 MB 2.2 MB/s eta 0:00:03\n",
      "     ----                                     0.8/6.2 MB 2.3 MB/s eta 0:00:03\n",
      "     -----                                    0.9/6.2 MB 2.5 MB/s eta 0:00:03\n",
      "     ------                                   1.0/6.2 MB 2.4 MB/s eta 0:00:03\n",
      "     -------                                  1.2/6.2 MB 2.5 MB/s eta 0:00:03\n",
      "     --------                                 1.3/6.2 MB 2.6 MB/s eta 0:00:02\n",
      "     ---------                                1.5/6.2 MB 2.7 MB/s eta 0:00:02\n",
      "     ----------                               1.7/6.2 MB 2.8 MB/s eta 0:00:02\n",
      "     -----------                              1.8/6.2 MB 2.8 MB/s eta 0:00:02\n",
      "     ------------                             2.0/6.2 MB 2.8 MB/s eta 0:00:02\n",
      "     -------------                            2.1/6.2 MB 2.9 MB/s eta 0:00:02\n",
      "     --------------                           2.3/6.2 MB 3.0 MB/s eta 0:00:02\n",
      "     ----------------                         2.5/6.2 MB 3.0 MB/s eta 0:00:02\n",
      "     -----------------                        2.7/6.2 MB 3.1 MB/s eta 0:00:02\n",
      "     ------------------                       2.9/6.2 MB 3.1 MB/s eta 0:00:02\n",
      "     -------------------                      3.1/6.2 MB 3.2 MB/s eta 0:00:01\n",
      "     ---------------------                    3.3/6.2 MB 3.2 MB/s eta 0:00:01\n",
      "     ----------------------                   3.5/6.2 MB 3.2 MB/s eta 0:00:01\n",
      "     -----------------------                  3.7/6.2 MB 3.3 MB/s eta 0:00:01\n",
      "     -------------------------                3.9/6.2 MB 3.4 MB/s eta 0:00:01\n",
      "     --------------------------               4.1/6.2 MB 3.4 MB/s eta 0:00:01\n",
      "     ---------------------------              4.3/6.2 MB 3.4 MB/s eta 0:00:01\n",
      "     ----------------------------             4.4/6.2 MB 3.5 MB/s eta 0:00:01\n",
      "     -----------------------------            4.7/6.2 MB 3.5 MB/s eta 0:00:01\n",
      "     -------------------------------          4.9/6.2 MB 3.6 MB/s eta 0:00:01\n",
      "     ---------------------------------        5.2/6.2 MB 3.6 MB/s eta 0:00:01\n",
      "     ----------------------------------       5.4/6.2 MB 3.7 MB/s eta 0:00:01\n",
      "     ------------------------------------     5.7/6.2 MB 3.7 MB/s eta 0:00:01\n",
      "     --------------------------------------   6.0/6.2 MB 3.8 MB/s eta 0:00:01\n",
      "     ---------------------------------------  6.2/6.2 MB 3.9 MB/s eta 0:00:01\n",
      "     ---------------------------------------- 6.2/6.2 MB 3.8 MB/s eta 0:00:00\n",
      "Requirement already satisfied: certifi in c:\\users\\quentin\\anaconda3_2023\\lib\\site-packages (from pyproj) (2023.7.22)\n",
      "Installing collected packages: pyproj\n",
      "Successfully installed pyproj-3.7.0\n"
     ]
    }
   ],
   "source": [
    "!pip install pyproj"
   ]
  },
  {
   "cell_type": "code",
   "execution_count": 2,
   "metadata": {},
   "outputs": [],
   "source": [
    "from pyproj import Geod\n",
    "\n",
    "geod = Geod(ellps='WGS84')"
   ]
  },
  {
   "cell_type": "code",
   "execution_count": 3,
   "metadata": {},
   "outputs": [],
   "source": [
    "lat1 = 47.2590258\n",
    "lon1 = -122.4606095\n",
    "\n",
    "lat2 = 47.2596369\n",
    "lon2 = -122.4596773\n",
    "\n",
    "angle1,angle2,distance = geod.inv(lon1, lat1, lon2, lat2)"
   ]
  },
  {
   "cell_type": "code",
   "execution_count": 12,
   "metadata": {},
   "outputs": [],
   "source": [
    "import numpy as np"
   ]
  },
  {
   "cell_type": "code",
   "execution_count": 26,
   "metadata": {},
   "outputs": [],
   "source": [
    "def get_bearing(lat1, long1, lat2, long2):\n",
    "\n",
    "    lat1, long1, lat2, long2 = map(np.deg2rad, [lat1, long1, lat2, long2])\n",
    "\n",
    "    dLon = (long2 - long1)\n",
    "\n",
    "    y = np.sin(dLon) * np.cos(lat2)\n",
    "    x = np.cos(lat1) * np.sin(lat2) - np.sin(lat1) * np.cos(lat2) * np.cos(dLon)\n",
    "\n",
    "    brng = np.arctan2(x, y)\n",
    "\n",
    "    brng = np.rad2deg(brng)\n",
    "\n",
    "    return brng"
   ]
  },
  {
   "cell_type": "code",
   "execution_count": 27,
   "metadata": {},
   "outputs": [
    {
     "data": {
      "text/plain": [
       "44.0069492190966"
      ]
     },
     "execution_count": 27,
     "metadata": {},
     "output_type": "execute_result"
    }
   ],
   "source": [
    "\n",
    "get_bearing(lat1, lon1, lat2, lon2)\n"
   ]
  },
  {
   "cell_type": "code",
   "execution_count": 28,
   "metadata": {},
   "outputs": [
    {
     "data": {
      "text/plain": [
       "46.081785437600594"
      ]
     },
     "execution_count": 28,
     "metadata": {},
     "output_type": "execute_result"
    }
   ],
   "source": [
    "angle1"
   ]
  }
 ],
 "metadata": {
  "kernelspec": {
   "display_name": "base",
   "language": "python",
   "name": "python3"
  },
  "language_info": {
   "codemirror_mode": {
    "name": "ipython",
    "version": 3
   },
   "file_extension": ".py",
   "mimetype": "text/x-python",
   "name": "python",
   "nbconvert_exporter": "python",
   "pygments_lexer": "ipython3",
   "version": "3.10.12"
  }
 },
 "nbformat": 4,
 "nbformat_minor": 2
}
